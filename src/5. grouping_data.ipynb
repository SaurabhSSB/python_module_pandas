{
 "cells": [
  {
   "cell_type": "code",
   "execution_count": null,
   "id": "5ec3256a-5c46-4fc2-9ec3-aeccbc3838dd",
   "metadata": {},
   "outputs": [],
   "source": []
  }
 ],
 "metadata": {
  "kernelspec": {
   "display_name": "",
   "name": ""
  },
  "language_info": {
   "name": ""
  }
 },
 "nbformat": 4,
 "nbformat_minor": 5
}
