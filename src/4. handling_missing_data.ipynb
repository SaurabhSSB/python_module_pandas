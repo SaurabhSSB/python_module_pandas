{
 "cells": [
  {
   "cell_type": "code",
   "execution_count": null,
   "id": "10161d1e-ab3e-487d-9c98-4dd93ca88e5a",
   "metadata": {},
   "outputs": [],
   "source": [
    "import pandas as pd"
   ]
  },
  {
   "cell_type": "code",
   "execution_count": null,
   "id": "eab033d7-ce9c-4178-b4c6-3258b75a73c3",
   "metadata": {},
   "outputs": [],
   "source": [
    "df= pd.read_csv(\"C:\\\\Users\\\\Hp\\\\Desktop\\\\Study ITM\\\\Semester 2\\\\Applied Machine Learning\\\\Datasets\\\\london_weather.csv\",\n",
    "               parse_dates= ['date'])\n",
    "df.head()"
   ]
  },
  {
   "cell_type": "code",
   "execution_count": null,
   "id": "5a2d233e-0899-479f-81e1-7bfa5f9ff23f",
   "metadata": {},
   "outputs": [],
   "source": [
    "type(df.date[0])"
   ]
  },
  {
   "cell_type": "code",
   "execution_count": null,
   "id": "2c4ff1c3-a8df-4e22-8e73-fa0d8100fdac",
   "metadata": {},
   "outputs": [],
   "source": [
    "df.set_index('date', inplace= True)\n",
    "df.head(4)"
   ]
  },
  {
   "cell_type": "code",
   "execution_count": null,
   "id": "d98bd746-7180-49ff-ac06-1abb610f650b",
   "metadata": {},
   "outputs": [],
   "source": [
    "na_count_per_column = df.isna().sum()\n",
    "na_count_per_column"
   ]
  },
  {
   "cell_type": "markdown",
   "id": "fa2fe4b5-bcf6-43cb-a09a-ce872b7eeb21",
   "metadata": {},
   "source": [
    "df.fillna(method= \"ffill\")  \n",
    "df.fillna(method= \"bfill\")  \n",
    "df.fillna(method= \"bfill\", axis= \"columns\")  \n",
    "df.fillna(method= \"ffill\", limit= 1)  \n",
    "df.interpolate()  "
   ]
  },
  {
   "cell_type": "code",
   "execution_count": null,
   "id": "0d35a354-2959-44dd-9d2b-650641207592",
   "metadata": {},
   "outputs": [],
   "source": [
    "df.fillna({\n",
    "    \"cloud_cover\": df.cloud_cover.median(),\n",
    "    \"global_radiation\": df.global_radiation.median(),\n",
    "    'max_temp': df.max_temp.median(),\n",
    "    \"mean_temp\": df.mean_temp.mean(),\n",
    "    'min_temp': df.min_temp.median(),\n",
    "    \"precipitation\": df.precipitation.median(),\n",
    "    \"pressure\": df.pressure.median(),\n",
    "    \"snow_depth\":0\n",
    "}, inplace= True)\n",
    "df.head(6)"
   ]
  },
  {
   "cell_type": "markdown",
   "id": "8592e5d7-e2b7-41fd-8811-55664fcaecd5",
   "metadata": {},
   "source": [
    "df.dropna()  \n",
    "df.dropna(how= 'any')  \n",
    "df.dropna(how= 'all') # all data value in row has NA value then drop the row\n",
    "df.dropna(thresh= 2)  # atleast 2 non-NA value in row for not dropping the row"
   ]
  },
  {
   "cell_type": "code",
   "execution_count": null,
   "id": "ec61aba0-baaf-4098-8b61-352fd0b8c844",
   "metadata": {},
   "outputs": [],
   "source": [
    "df_replaced= df.replace(0,-1) \n",
    "df_replaced.head(10)"
   ]
  },
  {
   "cell_type": "code",
   "execution_count": null,
   "id": "dcbd6b50-225e-4c56-aeb3-f281c1082bd0",
   "metadata": {},
   "outputs": [],
   "source": [
    "import numpy as np\n",
    "df.replace( to_replace= [ 0, -1.1], value= np.nan).head(10)"
   ]
  },
  {
   "cell_type": "code",
   "execution_count": null,
   "id": "88d97647-89c9-419b-ba49-d58e255b93dc",
   "metadata": {},
   "outputs": [],
   "source": [
    "df.replace({\n",
    "    'sunshine': 0.0,\n",
    "    'precipitation': 0.0,\n",
    "    'snow_dept': 0.0,\n",
    "    'min_temp': [ -0.1, 1.1]\n",
    "}, np.nan).head(10)"
   ]
  },
  {
   "cell_type": "code",
   "execution_count": null,
   "id": "ee188d3c-d04d-4644-9d5a-aee0bd4bf91e",
   "metadata": {},
   "outputs": [],
   "source": [
    "df.replace({\n",
    "    0.0: np.nan,\n",
    "    -7.5: 'cold'\n",
    "}).head()"
   ]
  },
  {
   "cell_type": "code",
   "execution_count": null,
   "id": "4483b75f-87c0-4c00-9037-faa26b95cc5d",
   "metadata": {},
   "outputs": [],
   "source": [
    "df_next= pd.DataFrame({\n",
    "    \"grade\": [ 'A', 'B', 'D', 'B', 'A', 'B'],\n",
    "    \"student\": [ \"Ram\", \"Hari\", \"Jagganath\", \"Mahesh\", \"Juli\", \"Rupa\"]\n",
    "})\n",
    "df_next"
   ]
  },
  {
   "cell_type": "code",
   "execution_count": null,
   "id": "f45e56be-ecbd-47a9-833d-c5ca86d7504f",
   "metadata": {},
   "outputs": [],
   "source": [
    "df_next.replace( [ \"B\", \"D\"], [ \"Average\", \"Satisfactory\"])"
   ]
  }
 ],
 "metadata": {
  "kernelspec": {
   "display_name": "Python 3 (ipykernel)",
   "language": "python",
   "name": "python3"
  },
  "language_info": {
   "codemirror_mode": {
    "name": "ipython",
    "version": 3
   },
   "file_extension": ".py",
   "mimetype": "text/x-python",
   "name": "python",
   "nbconvert_exporter": "python",
   "pygments_lexer": "ipython3",
   "version": "3.12.6"
  }
 },
 "nbformat": 4,
 "nbformat_minor": 5
}
