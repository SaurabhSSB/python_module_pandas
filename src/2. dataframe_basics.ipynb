{
 "cells": [
  {
   "cell_type": "code",
   "execution_count": 1,
   "id": "3b2bd5fa-97af-4e48-a00b-628444984cb3",
   "metadata": {},
   "outputs": [],
   "source": [
    "import pandas as pd\n",
    "df= pd.read_csv(\"C:\\\\Users\\\\Hp\\\\Desktop\\\\Programs\\\\python_module_pandas\\\\src\\\\IMDB Top 250 Movies.csv\")"
   ]
  },
  {
   "cell_type": "code",
   "execution_count": 2,
   "id": "0d55dd17-4835-47ca-94c0-0faf64d65044",
   "metadata": {},
   "outputs": [
    {
     "data": {
      "text/html": [
       "<div>\n",
       "<style scoped>\n",
       "    .dataframe tbody tr th:only-of-type {\n",
       "        vertical-align: middle;\n",
       "    }\n",
       "\n",
       "    .dataframe tbody tr th {\n",
       "        vertical-align: top;\n",
       "    }\n",
       "\n",
       "    .dataframe thead th {\n",
       "        text-align: right;\n",
       "    }\n",
       "</style>\n",
       "<table border=\"1\" class=\"dataframe\">\n",
       "  <thead>\n",
       "    <tr style=\"text-align: right;\">\n",
       "      <th></th>\n",
       "      <th>rank</th>\n",
       "      <th>name</th>\n",
       "      <th>year</th>\n",
       "      <th>rating</th>\n",
       "      <th>genre</th>\n",
       "      <th>certificate</th>\n",
       "      <th>run_time</th>\n",
       "      <th>tagline</th>\n",
       "      <th>budget</th>\n",
       "      <th>box_office</th>\n",
       "      <th>casts</th>\n",
       "      <th>directors</th>\n",
       "      <th>writers</th>\n",
       "    </tr>\n",
       "  </thead>\n",
       "  <tbody>\n",
       "    <tr>\n",
       "      <th>0</th>\n",
       "      <td>1</td>\n",
       "      <td>The Shawshank Redemption</td>\n",
       "      <td>1994</td>\n",
       "      <td>9.3</td>\n",
       "      <td>Drama</td>\n",
       "      <td>R</td>\n",
       "      <td>2h 22m</td>\n",
       "      <td>Fear can hold you prisoner. Hope can set you f...</td>\n",
       "      <td>25000000</td>\n",
       "      <td>28884504</td>\n",
       "      <td>Tim Robbins,Morgan Freeman,Bob Gunton,William ...</td>\n",
       "      <td>Frank Darabont</td>\n",
       "      <td>Stephen King,Frank Darabont</td>\n",
       "    </tr>\n",
       "    <tr>\n",
       "      <th>1</th>\n",
       "      <td>2</td>\n",
       "      <td>The Godfather</td>\n",
       "      <td>1972</td>\n",
       "      <td>9.2</td>\n",
       "      <td>Crime,Drama</td>\n",
       "      <td>R</td>\n",
       "      <td>2h 55m</td>\n",
       "      <td>An offer you can't refuse.</td>\n",
       "      <td>6000000</td>\n",
       "      <td>250341816</td>\n",
       "      <td>Marlon Brando,Al Pacino,James Caan,Diane Keato...</td>\n",
       "      <td>Francis Ford Coppola</td>\n",
       "      <td>Mario Puzo,Francis Ford Coppola</td>\n",
       "    </tr>\n",
       "    <tr>\n",
       "      <th>2</th>\n",
       "      <td>3</td>\n",
       "      <td>The Dark Knight</td>\n",
       "      <td>2008</td>\n",
       "      <td>9.0</td>\n",
       "      <td>Action,Crime,Drama</td>\n",
       "      <td>PG-13</td>\n",
       "      <td>2h 32m</td>\n",
       "      <td>Why So Serious?</td>\n",
       "      <td>185000000</td>\n",
       "      <td>1006234167</td>\n",
       "      <td>Christian Bale,Heath Ledger,Aaron Eckhart,Mich...</td>\n",
       "      <td>Christopher Nolan</td>\n",
       "      <td>Jonathan Nolan,Christopher Nolan,David S. Goyer</td>\n",
       "    </tr>\n",
       "    <tr>\n",
       "      <th>3</th>\n",
       "      <td>4</td>\n",
       "      <td>The Godfather Part II</td>\n",
       "      <td>1974</td>\n",
       "      <td>9.0</td>\n",
       "      <td>Crime,Drama</td>\n",
       "      <td>R</td>\n",
       "      <td>3h 22m</td>\n",
       "      <td>All the power on earth can't change destiny.</td>\n",
       "      <td>13000000</td>\n",
       "      <td>47961919</td>\n",
       "      <td>Al Pacino,Robert De Niro,Robert Duvall,Diane K...</td>\n",
       "      <td>Francis Ford Coppola</td>\n",
       "      <td>Francis Ford Coppola,Mario Puzo</td>\n",
       "    </tr>\n",
       "    <tr>\n",
       "      <th>4</th>\n",
       "      <td>5</td>\n",
       "      <td>12 Angry Men</td>\n",
       "      <td>1957</td>\n",
       "      <td>9.0</td>\n",
       "      <td>Crime,Drama</td>\n",
       "      <td>Approved</td>\n",
       "      <td>1h 36m</td>\n",
       "      <td>Life Is In Their Hands -- Death Is On Their Mi...</td>\n",
       "      <td>350000</td>\n",
       "      <td>955</td>\n",
       "      <td>Henry Fonda,Lee J. Cobb,Martin Balsam,John Fie...</td>\n",
       "      <td>Sidney Lumet</td>\n",
       "      <td>Reginald Rose</td>\n",
       "    </tr>\n",
       "  </tbody>\n",
       "</table>\n",
       "</div>"
      ],
      "text/plain": [
       "   rank                      name  year  rating               genre  \\\n",
       "0     1  The Shawshank Redemption  1994     9.3               Drama   \n",
       "1     2             The Godfather  1972     9.2         Crime,Drama   \n",
       "2     3           The Dark Knight  2008     9.0  Action,Crime,Drama   \n",
       "3     4     The Godfather Part II  1974     9.0         Crime,Drama   \n",
       "4     5              12 Angry Men  1957     9.0         Crime,Drama   \n",
       "\n",
       "  certificate run_time                                            tagline  \\\n",
       "0           R   2h 22m  Fear can hold you prisoner. Hope can set you f...   \n",
       "1           R   2h 55m                         An offer you can't refuse.   \n",
       "2       PG-13   2h 32m                                    Why So Serious?   \n",
       "3           R   3h 22m       All the power on earth can't change destiny.   \n",
       "4    Approved   1h 36m  Life Is In Their Hands -- Death Is On Their Mi...   \n",
       "\n",
       "      budget  box_office                                              casts  \\\n",
       "0   25000000    28884504  Tim Robbins,Morgan Freeman,Bob Gunton,William ...   \n",
       "1    6000000   250341816  Marlon Brando,Al Pacino,James Caan,Diane Keato...   \n",
       "2  185000000  1006234167  Christian Bale,Heath Ledger,Aaron Eckhart,Mich...   \n",
       "3   13000000    47961919  Al Pacino,Robert De Niro,Robert Duvall,Diane K...   \n",
       "4     350000         955  Henry Fonda,Lee J. Cobb,Martin Balsam,John Fie...   \n",
       "\n",
       "              directors                                          writers  \n",
       "0        Frank Darabont                      Stephen King,Frank Darabont  \n",
       "1  Francis Ford Coppola                  Mario Puzo,Francis Ford Coppola  \n",
       "2     Christopher Nolan  Jonathan Nolan,Christopher Nolan,David S. Goyer  \n",
       "3  Francis Ford Coppola                  Francis Ford Coppola,Mario Puzo  \n",
       "4          Sidney Lumet                                    Reginald Rose  "
      ]
     },
     "execution_count": 2,
     "metadata": {},
     "output_type": "execute_result"
    }
   ],
   "source": [
    "df.head()"
   ]
  },
  {
   "cell_type": "code",
   "execution_count": 3,
   "id": "8cf53962-fd42-4735-a913-bf9f773c1de9",
   "metadata": {},
   "outputs": [
    {
     "data": {
      "text/plain": [
       "Index(['rank', 'name', 'year', 'rating', 'genre', 'certificate', 'run_time',\n",
       "       'tagline', 'budget', 'box_office', 'casts', 'directors', 'writers'],\n",
       "      dtype='object')"
      ]
     },
     "execution_count": 3,
     "metadata": {},
     "output_type": "execute_result"
    }
   ],
   "source": [
    "df.columns"
   ]
  },
  {
   "cell_type": "code",
   "execution_count": 4,
   "id": "822bb2f3-14df-4e53-8a27-6ba96040621b",
   "metadata": {},
   "outputs": [
    {
     "data": {
      "text/plain": [
       "array(['R', 'PG-13', 'Approved', 'PG', '18+', 'Not Rated', 'G', 'Passed',\n",
       "       'Not Available', 'TV-PG', 'Unrated', 'X', '13+', 'TV-MA', 'GP'],\n",
       "      dtype=object)"
      ]
     },
     "execution_count": 4,
     "metadata": {},
     "output_type": "execute_result"
    }
   ],
   "source": [
    "df.certificate.unique()"
   ]
  },
  {
   "cell_type": "code",
   "execution_count": 5,
   "id": "26597b76-4857-4be5-b152-583539057c90",
   "metadata": {},
   "outputs": [
    {
     "data": {
      "text/plain": [
       "array([1994, 1972, 2008, 1974, 1957, 1993, 2003, 2001, 1966, 1999, 2002,\n",
       "       2010, 1980, 1990, 1975, 1995, 1954, 1946, 1991, 1998, 2014, 1997,\n",
       "       1977, 1985, 1960, 2019, 2000, 2006, 1942, 1988, 1962, 2011, 1936,\n",
       "       1968, 1979, 1931, 2012, 1981, 1950, 1940, 2018, 1986, 1964, 2009,\n",
       "       1984, 2017, 2016, 1952, 1963, 1983, 2004, 1992, 1941, 1959, 1958,\n",
       "       1971, 1944, 1987, 2022, 2020, 1973, 1927, 1976, 1989, 1948, 2007,\n",
       "       1965, 2005, 1921, 2013, 1961, 2021, 1982, 1939, 2015, 1996, 1925,\n",
       "       1926, 1949, 1978, 1953, 1924, 1928, 1955, 1967, 1934])"
      ]
     },
     "execution_count": 5,
     "metadata": {},
     "output_type": "execute_result"
    }
   ],
   "source": [
    "df['year'].unique()"
   ]
  },
  {
   "cell_type": "code",
   "execution_count": 6,
   "id": "6f427cbc-1921-49a5-8511-81afc1f76d7b",
   "metadata": {},
   "outputs": [
    {
     "data": {
      "text/plain": [
       "certificate\n",
       "R                97\n",
       "PG               37\n",
       "PG-13            35\n",
       "Not Rated        24\n",
       "G                19\n",
       "Passed           16\n",
       "Approved         14\n",
       "18+               1\n",
       "Not Available     1\n",
       "TV-PG             1\n",
       "Unrated           1\n",
       "X                 1\n",
       "13+               1\n",
       "TV-MA             1\n",
       "GP                1\n",
       "Name: count, dtype: int64"
      ]
     },
     "execution_count": 6,
     "metadata": {},
     "output_type": "execute_result"
    }
   ],
   "source": [
    "df.certificate.value_counts()"
   ]
  },
  {
   "cell_type": "code",
   "execution_count": 8,
   "id": "6416641b-1d73-467c-912c-d628bf4b94b3",
   "metadata": {},
   "outputs": [
    {
     "data": {
      "text/plain": [
       "year\n",
       "1995    8\n",
       "2004    7\n",
       "2003    6\n",
       "1999    6\n",
       "2019    6\n",
       "       ..\n",
       "1924    1\n",
       "1928    1\n",
       "1955    1\n",
       "1967    1\n",
       "1934    1\n",
       "Name: count, Length: 86, dtype: int64"
      ]
     },
     "execution_count": 8,
     "metadata": {},
     "output_type": "execute_result"
    }
   ],
   "source": [
    "df.year.value_counts()"
   ]
  }
 ],
 "metadata": {
  "kernelspec": {
   "display_name": "Python 3 (ipykernel)",
   "language": "python",
   "name": "python3"
  },
  "language_info": {
   "codemirror_mode": {
    "name": "ipython",
    "version": 3
   },
   "file_extension": ".py",
   "mimetype": "text/x-python",
   "name": "python",
   "nbconvert_exporter": "python",
   "pygments_lexer": "ipython3",
   "version": "3.12.6"
  }
 },
 "nbformat": 4,
 "nbformat_minor": 5
}
